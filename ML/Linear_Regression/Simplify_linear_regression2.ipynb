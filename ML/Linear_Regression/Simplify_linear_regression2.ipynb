{
 "cells": [
  {
   "cell_type": "code",
   "execution_count": 7,
   "metadata": {},
   "outputs": [],
   "source": [
    "import tensorflow as tf\n",
    "x_data = [1, 2, 3]\n",
    "y_data = [1, 2, 3]\n",
    "\n",
    "W = tf.Variable(tf.random_normal([1]), name = 'weight')\n",
    "X = tf.placeholder(tf.float32)\n",
    "Y = tf.placeholder(tf.float32)\n",
    "\n",
    "hypothesis = X * W\n",
    "\n",
    "cost = tf.reduce_mean(tf.square(hypothesis - Y))"
   ]
  },
  {
   "cell_type": "code",
   "execution_count": 8,
   "metadata": {},
   "outputs": [],
   "source": [
    "learning_rate = 0.1\n",
    "gradient = tf.reduce_mean((W * X - Y) * X)\n",
    "descent = W - learning_rate * gradient\n",
    "update = W.assign(descent)"
   ]
  },
  {
   "cell_type": "code",
   "execution_count": 9,
   "metadata": {},
   "outputs": [],
   "source": [
    "sess = tf.Session()\n",
    "sess.run(tf.global_variables_initializer())"
   ]
  },
  {
   "cell_type": "code",
   "execution_count": 10,
   "metadata": {},
   "outputs": [
    {
     "name": "stdout",
     "output_type": "stream",
     "text": [
      "0 15.26077 [-0.80835974]\n",
      "1 4.340842 [0.03554142]\n",
      "2 1.2347282 [0.4856221]\n",
      "3 0.35121146 [0.72566515]\n",
      "4 0.09990016 [0.85368806]\n",
      "5 0.02841606 [0.92196697]\n",
      "6 0.008082794 [0.95838237]\n",
      "7 0.0022991025 [0.97780395]\n",
      "8 0.00065396604 [0.9881621]\n",
      "9 0.00018601834 [0.99368644]\n",
      "10 5.2912656e-05 [0.99663275]\n",
      "11 1.5051424e-05 [0.9982041]\n",
      "12 4.281109e-06 [0.9990422]\n",
      "13 1.217789e-06 [0.9994892]\n",
      "14 3.4632262e-07 [0.9997276]\n",
      "15 9.848145e-08 [0.99985474]\n",
      "16 2.8019068e-08 [0.9999225]\n",
      "17 7.967132e-09 [0.9999587]\n",
      "18 2.274973e-09 [0.99997795]\n",
      "19 6.448282e-10 [0.99998826]\n",
      "20 1.8353437e-10 [0.99999374]\n"
     ]
    }
   ],
   "source": [
    "for step in range(21):\n",
    "    sess.run(update, feed_dict={X: x_data, Y: y_data})\n",
    "    print(step, sess.run(cost, feed_dict={X: x_data, Y: y_data}), sess.run(W))"
   ]
  },
  {
   "cell_type": "code",
   "execution_count": null,
   "metadata": {},
   "outputs": [],
   "source": []
  }
 ],
 "metadata": {
  "kernelspec": {
   "display_name": "Python [conda env:cpu-tensorflow]",
   "language": "python",
   "name": "conda-env-cpu-tensorflow-py"
  },
  "language_info": {
   "codemirror_mode": {
    "name": "ipython",
    "version": 3
   },
   "file_extension": ".py",
   "mimetype": "text/x-python",
   "name": "python",
   "nbconvert_exporter": "python",
   "pygments_lexer": "ipython3",
   "version": "3.5.6"
  }
 },
 "nbformat": 4,
 "nbformat_minor": 2
}
